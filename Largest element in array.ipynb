{
 "cells": [
  {
   "cell_type": "code",
   "execution_count": 13,
   "metadata": {},
   "outputs": [
    {
     "name": "stdout",
     "output_type": "stream",
     "text": [
      "556\n"
     ]
    }
   ],
   "source": [
    "def large(arr):\n",
    "        if not arr:\n",
    "            return False\n",
    "        \n",
    "        largest=arr[0]\n",
    "        for num in arr:\n",
    "            if num>largest:\n",
    "                largest = num\n",
    "        print(largest)\n",
    "    \n",
    "    \n",
    "arr=[12,334,556,77,56]\n",
    "\n",
    "large(arr)\n",
    "    "
   ]
  },
  {
   "cell_type": "code",
   "execution_count": 6,
   "metadata": {},
   "outputs": [
    {
     "name": "stdout",
     "output_type": "stream",
     "text": [
      "The largest element in the array is: 99\n"
     ]
    }
   ],
   "source": [
    "def find_largest_element(arr):\n",
    "    if not arr:  # Check if the array is empty\n",
    "        return None\n",
    "    largest = arr[0]  # Assume the first element is the largest\n",
    "    for num in arr:\n",
    "        if num > largest:\n",
    "            largest = num  # Update largest if current element is greater\n",
    "    return largest\n",
    "\n",
    "# Example usage\n",
    "arr = [10, 20, 4, 45, 99]\n",
    "print(\"The largest element in the array is:\", find_largest_element(arr))\n"
   ]
  }
 ],
 "metadata": {
  "kernelspec": {
   "display_name": "Python 3",
   "language": "python",
   "name": "python3"
  },
  "language_info": {
   "codemirror_mode": {
    "name": "ipython",
    "version": 3
   },
   "file_extension": ".py",
   "mimetype": "text/x-python",
   "name": "python",
   "nbconvert_exporter": "python",
   "pygments_lexer": "ipython3",
   "version": "3.11.2"
  }
 },
 "nbformat": 4,
 "nbformat_minor": 2
}
